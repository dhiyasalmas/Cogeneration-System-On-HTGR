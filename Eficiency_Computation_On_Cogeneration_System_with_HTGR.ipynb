{
  "nbformat": 4,
  "nbformat_minor": 0,
  "metadata": {
    "colab": {
      "provenance": []
    },
    "kernelspec": {
      "name": "python3",
      "display_name": "Python 3"
    },
    "language_info": {
      "name": "python"
    }
  },
  "cells": [
    {
      "cell_type": "markdown",
      "source": [
        "# **Siklus Primer Desain V1**\n",
        "\n",
        "\n",
        "\n"
      ],
      "metadata": {
        "id": "XfKoTitfrCL3"
      }
    },
    {
      "cell_type": "code",
      "execution_count": null,
      "metadata": {
        "id": "M0V0dQunBkiw"
      },
      "outputs": [],
      "source": [
        "import numpy as np # linear algebra\n",
        "from numpy import array\n",
        "import pandas as pd # data processing\n",
        "import matplotlib.pyplot as plt\n",
        "import glob\n",
        "import os\n",
        "from pathlib import Path\n",
        "from scipy.interpolate import griddata"
      ]
    },
    {
      "cell_type": "code",
      "source": [
        "from google.colab import drive\n",
        "drive.mount(\"/content/gdrive\")\n",
        "path = r'/content/gdrive/My Drive/stream data from chemcad design 1' # use your path\n",
        "files = Path(path).glob('*.csv')  # .rglob to get subdirectories\n",
        "count_f = glob.glob(path + \"/*.csv\")\n",
        "print(len(count_f))\n",
        "dfs = list()\n",
        "for f in files:\n",
        "  for i in range (len(count_f)):\n",
        "    data = pd.read_csv(f)\n",
        "    #print(data)\n",
        "    # .stem is method for pathlib objects to get the filename w/o the extension\n",
        "    data['file'] = f.stem\n",
        "    dfs.append(data)\n",
        "df7 = pd.concat(dfs, ignore_index=True)\n",
        "#print(df7)"
      ],
      "metadata": {
        "id": "4K7CDyavBo9f",
        "colab": {
          "base_uri": "https://localhost:8080/"
        },
        "outputId": "d16a8ec3-dffb-49de-8bc5-e00b0d94578d"
      },
      "execution_count": null,
      "outputs": [
        {
          "output_type": "stream",
          "name": "stdout",
          "text": [
            "Mounted at /content/gdrive\n",
            "10\n"
          ]
        }
      ]
    },
    {
      "cell_type": "code",
      "source": [
        "sheet = (len(df7.index))/(len(count_f))\n",
        "print(sheet)"
      ],
      "metadata": {
        "id": "DyDhQSQNfd7E",
        "colab": {
          "base_uri": "https://localhost:8080/"
        },
        "outputId": "c3f90358-9388-41f4-f37f-20b862084e8e"
      },
      "execution_count": null,
      "outputs": [
        {
          "output_type": "stream",
          "name": "stdout",
          "text": [
            "630.0\n"
          ]
        }
      ]
    },
    {
      "cell_type": "code",
      "source": [
        "#Laju Massa Aliran Primer\n",
        "a = 9\n",
        "data_massfd = list()\n",
        "while a < len(df7.index):\n",
        "    mass_flow = df7.loc[a]\n",
        "    #print(mass_flow)\n",
        "    data_massfd.append(mass_flow[1])\n",
        "    data_massfd = [*set(data_massfd)]\n",
        "    a = sheet + a\n",
        "data_massfd = [eval(i) for i in data_massfd]\n",
        "data_massfd.sort(reverse=False)\n",
        "print(data_massfd)\n",
        "print(len(data_massfd))"
      ],
      "metadata": {
        "id": "bh3n3SAuHoED",
        "colab": {
          "base_uri": "https://localhost:8080/"
        },
        "outputId": "615d8cbf-b961-41d8-c431-ac0fd71c311e"
      },
      "execution_count": null,
      "outputs": [
        {
          "output_type": "stream",
          "name": "stdout",
          "text": [
            "[5, 6, 7, 8, 9, 10, 11, 12, 13, 14]\n",
            "10\n"
          ]
        }
      ]
    },
    {
      "cell_type": "code",
      "source": [
        "#Aliran 5, Temperatur keluar steam generator siklus sekunder\n",
        "s = 10\n",
        "data_t5 = list()\n",
        "while s<len(df7.index):\n",
        "  temp_reac = df7.loc[s]\n",
        "  data_t5.append(temp_reac[5])\n",
        "  #data_t5 = [*set(data_t5)]\n",
        "  s = sheet + s\n",
        "data_t5 = [eval(i) for i in data_t5]\n",
        "data_t5.sort(reverse=False)\n",
        "print(data_t5)\n",
        "print(len(data_t5))"
      ],
      "metadata": {
        "colab": {
          "base_uri": "https://localhost:8080/"
        },
        "id": "XkxLkN9cxx6s",
        "outputId": "e44256aa-ed8c-48c1-a3cb-598e608833c4"
      },
      "execution_count": null,
      "outputs": [
        {
          "output_type": "stream",
          "name": "stdout",
          "text": [
            "[339.2555, 339.2555, 339.2555, 339.2555, 350.3957, 398.864, 460.5069, 517.6917, 561.5035, 592.965]\n",
            "10\n"
          ]
        }
      ]
    },
    {
      "cell_type": "code",
      "source": [
        "#Aliran 2, Temperatur keluar steam generator siklus primer\n",
        "s = 10\n",
        "data_t2 = list()\n",
        "while s<len(df7.index):\n",
        "  temp_reac = df7.loc[s]\n",
        "  data_t2.append(temp_reac[2])\n",
        "  #data_t2 = [*set(data_t2)]\n",
        "  s = sheet + s\n",
        "data_t2 = [eval(i) for i in data_t2]\n",
        "data_t2.sort(reverse=False)\n",
        "print(data_t2)\n",
        "print(len(data_t2))"
      ],
      "metadata": {
        "colab": {
          "base_uri": "https://localhost:8080/"
        },
        "id": "R0XY18RCxzsp",
        "outputId": "5b0f5ed8-451a-4e1d-ca26-303828895ce4"
      },
      "execution_count": null,
      "outputs": [
        {
          "output_type": "stream",
          "name": "stdout",
          "text": [
            "[67.8297, 68.2816, 70.7787, 70.803, 72.2701, 75.7963, 87.1647, 106.4344, 131.2983, 158.5026]\n",
            "10\n"
          ]
        }
      ]
    },
    {
      "cell_type": "code",
      "source": [
        "# Using Numpy to create an array X\n",
        "X = np.array(data_massfd)\n",
        "  \n",
        "# Assign variables to the y axis part of the curve\n",
        "y = np.array(data_t5)\n",
        "y1 = np.array(data_t2)\n",
        "  \n",
        "# Plotting both the curves simultaneously\n",
        "fig, ax = plt.subplots()\n",
        "ax.plot(X, y1, 'r', label='Outlet pada sisi primer')\n",
        "ax.plot(X, y, 'g', label='Outlet pada sisi sekunder')\n",
        "  \n",
        "# Naming the x-axis, y-axis and the whole graph\n",
        "plt.xlabel(\"Laju alir massa pendingin di reaktor (kg/s)\")\n",
        "plt.ylabel(\"Temperatur outlet steam generator(°C)\")\n",
        "  \n",
        "# Adding legend, which helps us recognize the curve according to it's color\n",
        "plt.legend()\n",
        "  \n",
        "# To load the display window\n",
        "plt.show()"
      ],
      "metadata": {
        "colab": {
          "base_uri": "https://localhost:8080/",
          "height": 449
        },
        "id": "bDZgnSRPx1mp",
        "outputId": "e43110e6-b2b0-4f88-f8a9-447feb31a9b6"
      },
      "execution_count": null,
      "outputs": [
        {
          "output_type": "display_data",
          "data": {
            "text/plain": [
              "<Figure size 640x480 with 1 Axes>"
            ],
            "image/png": "[encoded data removed]"
          },
          "metadata": {}
        }
      ]
    },
    {
      "cell_type": "markdown",
      "source": [
        "# **DAYAAAA**"
      ],
      "metadata": {
        "id": "aBuh9seEOxMd"
      }
    },
    {
      "cell_type": "code",
      "source": [
        "from google.colab import drive\n",
        "drive.mount(\"/content/gdrive\")\n",
        "path = r'/content/gdrive/My Drive/power data from chemcad design 1' # use your path\n",
        "files = Path(path).glob('*.csv')  # .rglob to get subdirectories\n",
        "count_f = glob.glob(path + \"/*.csv\")\n",
        "print(len(count_f))\n",
        "dfs = list()\n",
        "for f in files:\n",
        "  for i in range (len(count_f)):\n",
        "    data = pd.read_csv(f)\n",
        "    #print(data)\n",
        "    # .stem is method for pathlib objects to get the filename w/o the extension\n",
        "    data['file'] = f.stem\n",
        "    dfs.append(data)\n",
        "dfpower = pd.concat(dfs, ignore_index=True)\n",
        "#print(df7)"
      ],
      "metadata": {
        "colab": {
          "base_uri": "https://localhost:8080/"
        },
        "id": "zFEzDHqhOAkB",
        "outputId": "33e9c200-2e4d-4910-954a-8954c6285669"
      },
      "execution_count": null,
      "outputs": [
        {
          "output_type": "stream",
          "name": "stdout",
          "text": [
            "Drive already mounted at /content/gdrive; to attempt to forcibly remount, call drive.mount(\"/content/gdrive\", force_remount=True).\n",
            "10\n"
          ]
        }
      ]
    },
    {
      "cell_type": "code",
      "source": [
        "sheet2 = (len(dfpower.index))/(len(count_f))\n",
        "print(sheet2)"
      ],
      "metadata": {
        "colab": {
          "base_uri": "https://localhost:8080/"
        },
        "id": "94ysSIq0A_bK",
        "outputId": "f6362cd6-98fd-41d9-f457-6ea1d2772ee1"
      },
      "execution_count": null,
      "outputs": [
        {
          "output_type": "stream",
          "name": "stdout",
          "text": [
            "1070.0\n"
          ]
        }
      ]
    },
    {
      "cell_type": "code",
      "source": [
        "#sheet\n",
        "#print(dfpower)\n",
        "#print(dfpower.loc[0])\n",
        "#print(dfpower.loc[1069])\n",
        "\n",
        "#Reaktor\n",
        "#print(dfpower.loc[10])\n",
        "\n",
        "#Pompa\n",
        "print(dfpower.loc[24])\n",
        "\n",
        "#Heat Exchanger\n",
        "#print(dfpower.loc[51])\n",
        "\n",
        "#Separator\n",
        "#print(dfpower.loc[69])\n",
        "\n",
        "#Turbin\n",
        "#print(dfpower.loc[84])\n",
        "\n",
        "#Blower\n",
        "#print(dfpower.loc[100])"
      ],
      "metadata": {
        "id": "NxOb5m4OSVSZ",
        "colab": {
          "base_uri": "https://localhost:8080/"
        },
        "outputId": "3b3fbdec-34b8-4982-d36b-0bd6e97977e1"
      },
      "execution_count": null,
      "outputs": [
        {
          "output_type": "stream",
          "name": "stdout",
          "text": [
            "CHEMCAD                          Calculated power\n",
            "6.1.4                                      0.1302\n",
            "Page                                       0.0024\n",
            "1                                             NaN\n",
            "Unnamed: 4                                    NaN\n",
            "Unnamed: 5                                    NaN\n",
            "file          Siklus Tak Langsung Desain TA1 V1_5\n",
            "Name: 24, dtype: object\n"
          ]
        }
      ]
    },
    {
      "cell_type": "markdown",
      "source": [
        "## **Daya Reaktor**"
      ],
      "metadata": {
        "id": "7EqVwE5S7BFt"
      }
    },
    {
      "cell_type": "code",
      "source": [
        "#DAYA PELUIT-40, HEAT DUTY MJ/S\n",
        "p = 10\n",
        "daya_reaktor = list()\n",
        "while p<len(dfpower.index):\n",
        "  daya = dfpower.loc[p]\n",
        "  daya_reaktor.append(daya[1])\n",
        "  daya_reaktor = [*set(daya_reaktor)]\n",
        "  p = sheet2 + p\n",
        "\n",
        "daya_reaktor = [eval(i) for i in daya_reaktor]\n",
        "daya_reaktor.sort(reverse=False)\n",
        "print(daya_reaktor)\n",
        "print(len(daya_reaktor))"
      ],
      "metadata": {
        "colab": {
          "base_uri": "https://localhost:8080/"
        },
        "id": "eOsMZ38HU_q9",
        "outputId": "d556ffe5-1e0e-4808-b43e-7822b762afc2"
      },
      "execution_count": null,
      "outputs": [
        {
          "output_type": "stream",
          "name": "stdout",
          "text": [
            "[40]\n",
            "1\n"
          ]
        }
      ]
    },
    {
      "cell_type": "markdown",
      "source": [
        "## **Daya Sirkulator**"
      ],
      "metadata": {
        "id": "rObtD5Vv7E0h"
      }
    },
    {
      "cell_type": "code",
      "source": [
        "#DAYA POMPA A (To St. Generator), CALCULATED POWER MJ/S\n",
        "p = 24\n",
        "daya_pompaa = list()\n",
        "while p<len(dfpower.index):\n",
        "  daya = dfpower.loc[p]\n",
        "  daya_pompaa.append(daya[1])\n",
        "  #daya_pompaa = [*set(daya_pompaa)]\n",
        "  p = sheet2 + p\n",
        "\n",
        "daya_pompaa = [eval(i) for i in daya_pompaa]\n",
        "#daya_pompaa.sort(reverse=False)\n",
        "print(daya_pompaa)\n",
        "print(len(daya_pompaa))"
      ],
      "metadata": {
        "colab": {
          "base_uri": "https://localhost:8080/"
        },
        "id": "HMk8r6iZV2SS",
        "outputId": "cd559821-d07a-4aad-9d20-0678b20df499"
      },
      "execution_count": null,
      "outputs": [
        {
          "output_type": "stream",
          "name": "stdout",
          "text": [
            "[0.1302, 0.1302, 0.1302, 0.1302, 0.1302, 0.1302, 0.1302, 0.1302, 0.1302, 0.1302]\n",
            "10\n"
          ]
        }
      ]
    },
    {
      "cell_type": "code",
      "source": [
        "#DAYA POMPA B (To Separator), CALCULATED POWER MJ/S\n",
        "p = 24\n",
        "daya_pompab = list()\n",
        "while p<len(dfpower.index):\n",
        "  daya = dfpower.loc[p]\n",
        "  daya_pompab.append(daya[2])\n",
        "  #daya_pompab = [*set(daya_pompab)]\n",
        "  p = sheet2 + p\n",
        "\n",
        "daya_pompab = [eval(i) for i in daya_pompab]\n",
        "#daya_pompab.sort(reverse=False)\n",
        "print(daya_pompab)\n",
        "print(len(daya_pompab))"
      ],
      "metadata": {
        "colab": {
          "base_uri": "https://localhost:8080/"
        },
        "id": "eREDZuT34irB",
        "outputId": "b2fc31ae-da00-41f8-e175-5e0e10afbf84"
      },
      "execution_count": null,
      "outputs": [
        {
          "output_type": "stream",
          "name": "stdout",
          "text": [
            "[0.0024, 0.0024, 0.0024, 0.0024, 0.0024, 0.0024, 0.0024, 0.0024, 0.0024, 0.0024]\n",
            "10\n"
          ]
        }
      ]
    },
    {
      "cell_type": "markdown",
      "source": [
        "## **Daya IHX**"
      ],
      "metadata": {
        "id": "X4Ky6_Zn7VWl"
      }
    },
    {
      "cell_type": "code",
      "source": [
        "#Daya Steam Generator\n",
        "p = 41\n",
        "daya_steamgenerator = list()\n",
        "while p<len(dfpower.index):\n",
        "  daya = dfpower.loc[p]\n",
        "  daya_steamgenerator.append(daya[1])\n",
        "  #daya_steamgenerator = [*set(daya_steamgenerator)]\n",
        "  p = sheet2 + p\n",
        "\n",
        "daya_steamgenerator = [eval(i) for i in daya_steamgenerator]\n",
        "#daya_steamgenerator.sort(reverse=False)\n",
        "print(daya_steamgenerator)\n",
        "print(len(daya_steamgenerator))"
      ],
      "metadata": {
        "colab": {
          "base_uri": "https://localhost:8080/"
        },
        "id": "48s_S8kW4zIA",
        "outputId": "fb81460b-db7e-4ad0-9ac7-3a9cbecae95e"
      },
      "execution_count": null,
      "outputs": [
        {
          "output_type": "stream",
          "name": "stdout",
          "text": [
            "[16.3471, 19.7093, 22.9777, 26.0943, 29.4259, 32.4346, 35.0277, 37.0098, 38.4134, 39.3884]\n",
            "10\n"
          ]
        }
      ]
    },
    {
      "cell_type": "markdown",
      "source": [
        "## **Daya Sistem**"
      ],
      "metadata": {
        "id": "10-G9NSy7ZAR"
      }
    },
    {
      "cell_type": "code",
      "source": [
        "#Daya Heat Exchanger, proses desalinasi\n",
        "p = 41\n",
        "daya_heatexchanger = list()\n",
        "while p<len(dfpower.index):\n",
        "  daya = dfpower.loc[p]\n",
        "  daya_heatexchanger.append(daya[2])\n",
        "  #daya_heatexchanger = [*set(daya_heatexchanger)]\n",
        "  p = sheet2 + p\n",
        "\n",
        "daya_heatexchanger = [eval(i) for i in daya_heatexchanger]\n",
        "daya_heatexchanger.sort(reverse=False)\n",
        "print(daya_heatexchanger)\n",
        "print(len(daya_heatexchanger))"
      ],
      "metadata": {
        "colab": {
          "base_uri": "https://localhost:8080/"
        },
        "id": "nBxwVoAR7dt9",
        "outputId": "edc3dcd6-4e7b-434b-8c69-954add146d24"
      },
      "execution_count": null,
      "outputs": [
        {
          "output_type": "stream",
          "name": "stdout",
          "text": [
            "[8.8906, 9.707, 12.147, 15.1454, 18.1971, 20.6221, 21.8818, 22.8157, 23.3693, 23.7048]\n",
            "10\n"
          ]
        }
      ]
    },
    {
      "cell_type": "code",
      "source": [
        "#Daya Separator\n",
        "p = 68\n",
        "daya_separator = list()\n",
        "while p<len(dfpower.index):\n",
        "  daya = dfpower.loc[p]\n",
        "  daya_separator.append(daya[1])\n",
        "  #daya_separator = [*set(daya_separator)]\n",
        "  p = sheet2 + p\n",
        "\n",
        "daya_separator = [eval(i) for i in daya_separator]\n",
        "#daya_separator.sort(reverse=False)\n",
        "print(daya_separator)\n",
        "print(len(daya_separator))"
      ],
      "metadata": {
        "colab": {
          "base_uri": "https://localhost:8080/"
        },
        "id": "zQ0nEo1j8HKq",
        "outputId": "b8e3b080-6342-49eb-f920-2ecccad9cb9d"
      },
      "execution_count": null,
      "outputs": [
        {
          "output_type": "stream",
          "name": "stdout",
          "text": [
            "[2.1242, 2.0896, 2.0776, 1.9593, 1.7065, 1.3204, 0.9871, 0.616, 0.2955, 0.0294]\n",
            "10\n"
          ]
        }
      ]
    },
    {
      "cell_type": "markdown",
      "source": [
        "## **Daya Sistem Kogenerasi**"
      ],
      "metadata": {
        "id": "aufas4SO9IcD"
      }
    },
    {
      "cell_type": "code",
      "source": [
        "#Daya Sistem Kogenerasi\n",
        "p = 41\n",
        "daya_kogenerasi = list()\n",
        "while p<len(dfpower.index):\n",
        "  daya = dfpower.loc[p]\n",
        "  daya_kogenerasi.append(daya[3])\n",
        "  #daya_kogenerasi = [*set(daya_kogenerasi)]\n",
        "  p = sheet2 + p\n",
        "\n",
        "daya_kogenerasi = [eval(i) for i in daya_kogenerasi]\n",
        "#daya_kogenerasi.sort(reverse=False)\n",
        "print(daya_kogenerasi)\n",
        "print(len(daya_kogenerasi))"
      ],
      "metadata": {
        "colab": {
          "base_uri": "https://localhost:8080/"
        },
        "id": "_UMQLguZWP4v",
        "outputId": "3a0e6065-ca4b-4cc3-c03b-8b3580add9a8"
      },
      "execution_count": null,
      "outputs": [
        {
          "output_type": "stream",
          "name": "stdout",
          "text": [
            "[3.6451, 3.6459, 3.6459, 3.6459, 3.6729, 3.7916, 3.9455, 4.0703, 4.2038, 4.2645]\n",
            "10\n"
          ]
        }
      ]
    },
    {
      "cell_type": "markdown",
      "source": [
        "## **Daya Turbin**"
      ],
      "metadata": {
        "id": "PSGjL5k29364"
      }
    },
    {
      "cell_type": "code",
      "source": [
        "#Daya Turbin A\n",
        "p = 83\n",
        "daya_turbina = list()\n",
        "while p<len(dfpower.index):\n",
        "  daya = dfpower.loc[p]\n",
        "  daya_turbina.append(daya[1])\n",
        "  #daya_turbina = [*set(daya_turbina)]\n",
        "  p = sheet2 + p\n",
        "\n",
        "daya_turbina = [eval(i) for i in daya_turbina]\n",
        "daya_turbina = [ -x for x in daya_turbina]\n",
        "#daya_turbina.sort(reverse=False)\n",
        "print(daya_turbina)\n",
        "print(len(daya_turbina))"
      ],
      "metadata": {
        "colab": {
          "base_uri": "https://localhost:8080/"
        },
        "id": "qSWea9ov96Qz",
        "outputId": "7d6b6cbe-f4e6-43ba-be14-f66e0d4c008e"
      },
      "execution_count": null,
      "outputs": [
        {
          "output_type": "stream",
          "name": "stdout",
          "text": [
            "[1.9666, 6.1098, 6.1098, 6.1098, 6.1098, 6.1887, 7.035, 7.5872, 7.9833, 8.2959]\n",
            "10\n"
          ]
        }
      ]
    },
    {
      "cell_type": "code",
      "source": [
        "#Daya Turbin B\n",
        "p = 83\n",
        "daya_turbinb = list()\n",
        "while p<len(dfpower.index):\n",
        "  daya = dfpower.loc[p]\n",
        "  daya_turbinb.append(daya[2])\n",
        "  #daya_turbinb = [*set(daya_turbinb)]\n",
        "  p = sheet2 + p\n",
        "\n",
        "daya_turbinb = [eval(i) for i in daya_turbinb]\n",
        "daya_turbinb = [ -x for x in daya_turbinb]\n",
        "#daya_turbinb.sort(reverse=False)\n",
        "print(daya_turbinb)\n",
        "print(len(daya_turbinb))"
      ],
      "metadata": {
        "colab": {
          "base_uri": "https://localhost:8080/"
        },
        "id": "r-wc9c97-Tp8",
        "outputId": "698caffa-1914-4297-c9ea-3c34277425be"
      },
      "execution_count": null,
      "outputs": [
        {
          "output_type": "stream",
          "name": "stdout",
          "text": [
            "[3.2851, 3.2851, 3.2851, 3.2851, 3.2851, 3.2851, 3.2851, 3.2851, 3.2851, 3.2851]\n",
            "10\n"
          ]
        }
      ]
    },
    {
      "cell_type": "code",
      "source": [
        "daya_turbinx = np.add(daya_turbina, daya_turbinb)\n",
        "daya_listrik = []\n",
        "for i in range (len(daya_turbinx)):\n",
        "  listrik = daya_turbinx[i]-daya_blower[i]-daya_separator[i]-daya_pompaa[i]-daya_pompab[i]\n",
        "  daya_listrik.append(listrik)\n",
        "print(daya_listrik)"
      ],
      "metadata": {
        "colab": {
          "base_uri": "https://localhost:8080/"
        },
        "id": "LpdKXbm26iIw",
        "outputId": "04cafe67-8d0c-41ec-aa49-d23858212f08"
      },
      "execution_count": null,
      "outputs": [
        {
          "output_type": "stream",
          "name": "stdout",
          "text": [
            "[2.9806999999999997, 7.1558, 7.164999999999999, 7.2802, 7.530199999999999, 7.992000000000001, 9.1676, 10.0861, 10.796999999999999, 11.3692]\n"
          ]
        }
      ]
    },
    {
      "cell_type": "markdown",
      "source": [
        "## **Daya Blower**"
      ],
      "metadata": {
        "id": "Qgjvf5CE-epY"
      }
    },
    {
      "cell_type": "code",
      "source": [
        "#Daya Blower\n",
        "p = 99\n",
        "daya_blower = list()\n",
        "while p<len(dfpower.index):\n",
        "  daya = dfpower.loc[p]\n",
        "  daya_blower.append(daya[1])\n",
        "  #daya_blower = [*set(daya_blower)]\n",
        "  p = sheet2 + p\n",
        "\n",
        "daya_blower = [eval(i) for i in daya_blower]\n",
        "#daya_blower = [ -x for x in daya_blower]\n",
        "#daya_blower.sort(reverse=False)\n",
        "print(daya_blower)\n",
        "print(len(daya_blower))"
      ],
      "metadata": {
        "colab": {
          "base_uri": "https://localhost:8080/"
        },
        "id": "ZwMzA60x-nxA",
        "outputId": "a5a84753-7157-4bc7-802f-22e7a8c76ce1"
      },
      "execution_count": null,
      "outputs": [
        {
          "output_type": "stream",
          "name": "stdout",
          "text": [
            "[0.0142, 0.0169, 0.0197, 0.0228, 0.0256, 0.0288, 0.0328, 0.0376, 0.0433, 0.0498]\n",
            "10\n"
          ]
        }
      ]
    },
    {
      "cell_type": "markdown",
      "source": [
        "## **Grafik Daya**"
      ],
      "metadata": {
        "id": "ZX1j3rwU4aO2"
      }
    },
    {
      "cell_type": "code",
      "source": [
        "#jumlah daya listrik\n",
        "#daya_listrik = [*set(daya_listrik)]\n",
        "\n",
        "#daya kogenerasi\n",
        "#daya_kogenerasii = [*set(daya_kogenerasi)]\n",
        "#daya_kogenerasii.sort(reverse=False)\n",
        "\n",
        "#daya desalinasi\n",
        "daya_heatexchanger = [*set(daya_heatexchanger)]\n",
        "\n",
        "# Using Numpy to create an array X\n",
        "X = np.array(data_massfd)\n",
        "  \n",
        "# Siklus Primer Desain Pertama\n",
        "y1 = np.array(daya_listrik)\n",
        "y2 = np.array(daya_kogenerasi)\n",
        "y3 = np.array(daya_heatexchanger)\n",
        "  \n",
        "# Plotting both the curves simultaneously\n",
        "fig, ax = plt.subplots()\n",
        "ax.plot(X, y1, 'r', label='Daya untuk pembangkit listrik')\n",
        "ax.plot(X, y2, 'g', label='Daya untuk produksi hidrogen')\n",
        "#ax.plot(X, y3, 'b', label='Daya untuk desalinasi')\n",
        "\n",
        "# Naming the x-axis, y-axis and the whole graph\n",
        "plt.xlabel(\"Laju alir massa pendingin di reaktor (kg/s)\")\n",
        "plt.ylabel(\"Daya termal (MW)\")\n",
        "plt.title(\"Desain pertama siklus tak langsung\")\n",
        "  \n",
        "# Adding legend, which helps us recognize the curve according to it's color\n",
        "plt.legend()\n",
        "  \n",
        "# To load the display window\n",
        "plt.show()"
      ],
      "metadata": {
        "colab": {
          "base_uri": "https://localhost:8080/",
          "height": 472
        },
        "id": "ZEiSeCHb4dFJ",
        "outputId": "6071b0e8-6362-435d-e678-a04d3be68a1d"
      },
      "execution_count": null,
      "outputs": [
        {
          "output_type": "display_data",
          "data": {
            "text/plain": [
              "<Figure size 640x480 with 1 Axes>"
            ],
            "image/png": "[encoded data removed]"
          },
          "metadata": {}
        }
      ]
    },
    {
      "cell_type": "markdown",
      "source": [
        "## **EUF**"
      ],
      "metadata": {
        "id": "GoFAHgPbXspO"
      }
    },
    {
      "cell_type": "code",
      "source": [
        "#EUF Pembangkit Listrik\n",
        "data_eufturbin = []\n",
        "for i in range (len(daya_listrik)):\n",
        "  EUF = (daya_listrik[i]/40)*100\n",
        "  data_eufturbin.append(EUF)\n",
        "  #data_euf = [*set(data_euf)]\n",
        "\n",
        "data_eufturbin.sort(reverse=False)\n",
        "print(data_eufturbin)\n",
        "print(len(data_eufturbin))"
      ],
      "metadata": {
        "colab": {
          "base_uri": "https://localhost:8080/"
        },
        "id": "BBNkn5vjVmMP",
        "outputId": "e857f105-cbf6-487a-8c06-395da7e07a66"
      },
      "execution_count": null,
      "outputs": [
        {
          "output_type": "stream",
          "name": "stdout",
          "text": [
            "[7.451749999999999, 17.889499999999998, 17.912499999999998, 18.2005, 18.825499999999998, 19.980000000000004, 22.919, 25.21525, 26.992499999999996, 28.423]\n",
            "10\n"
          ]
        }
      ]
    },
    {
      "cell_type": "code",
      "source": [
        "#EUF Kogenerasi\n",
        "data_eufkogenerasi = []\n",
        "for i in range (len(daya_kogenerasi)):\n",
        "  EUF = (daya_kogenerasi[i]/40)*100\n",
        "  data_eufkogenerasi.append(EUF)\n",
        "  #data_euf = [*set(data_euf)]\n",
        "\n",
        "data_eufkogenerasi.sort(reverse=False)\n",
        "print(data_eufkogenerasi)\n",
        "print(len(data_eufkogenerasi))"
      ],
      "metadata": {
        "colab": {
          "base_uri": "https://localhost:8080/"
        },
        "id": "c1388ewUV17L",
        "outputId": "87e193b0-3488-4ec0-be3c-9f6fa64a9914"
      },
      "execution_count": null,
      "outputs": [
        {
          "output_type": "stream",
          "name": "stdout",
          "text": [
            "[9.11275, 9.11475, 9.11475, 9.11475, 9.18225, 9.479, 9.86375, 10.175749999999999, 10.509500000000001, 10.661249999999999]\n",
            "10\n"
          ]
        }
      ]
    },
    {
      "cell_type": "code",
      "source": [
        "#EUF Desalinasi\n",
        "data_eufdesalinasi = []\n",
        "for i in range (len(daya_heatexchanger)):\n",
        "  EUF = (daya_heatexchanger[i]/40)*100\n",
        "  data_eufdesalinasi.append(EUF)\n",
        "  #data_euf = [*set(data_euf)]\n",
        "\n",
        "data_eufdesalinasi.sort(reverse=False)\n",
        "print(data_eufdesalinasi)\n",
        "print(len(data_eufdesalinasi))"
      ],
      "metadata": {
        "colab": {
          "base_uri": "https://localhost:8080/"
        },
        "id": "5fa37rRRWKKw",
        "outputId": "b00ba640-204b-4805-8bea-4b69a40f9a7f"
      },
      "execution_count": null,
      "outputs": [
        {
          "output_type": "stream",
          "name": "stdout",
          "text": [
            "[22.226499999999998, 24.267500000000002, 30.367500000000003, 37.8635, 45.49275, 51.555249999999994, 54.7045, 57.039249999999996, 58.423249999999996, 59.26199999999999]\n",
            "10\n"
          ]
        }
      ]
    },
    {
      "cell_type": "code",
      "source": [
        "# Using Numpy to create an array X\n",
        "X = np.array(data_massfd)\n",
        "\n",
        "# Siklus Primer Desain Pertama\n",
        "y1 = np.array(data_eufturbin)\n",
        "y2 = np.array(data_eufkogenerasi)\n",
        "#y3 = np.array(data_eufdesalinasi)\n",
        "  \n",
        "# Plotting both the curves simultaneously\n",
        "fig, ax = plt.subplots()\n",
        "ax.plot(X, y1, 'r', label='EUF untuk pembangkit listrik')\n",
        "ax.plot(X, y2, 'g', label='EUF untuk produksi hidrogen')\n",
        "#ax.plot(X, y3, 'b', label='EUF untuk desalinasi')\n",
        "\n",
        "# Naming the x-axis, y-axis and the whole graph\n",
        "plt.xlabel(\"Laju alir massa pendingin di reaktor (kg/s)\")\n",
        "plt.ylabel(\"Nilai EUF untuk setiap pemanfaatan (%)\")\n",
        "plt.title(\"Desain pertama siklus tak langsung\")\n",
        "  \n",
        "# Adding legend, which helps us recognize the curve according to it's color\n",
        "plt.legend()\n",
        "  \n",
        "# To load the display window\n",
        "plt.show()"
      ],
      "metadata": {
        "colab": {
          "base_uri": "https://localhost:8080/",
          "height": 472
        },
        "id": "10KM25gVWai9",
        "outputId": "49982b95-cf55-4865-9adb-fe040cb3b6c1"
      },
      "execution_count": null,
      "outputs": [
        {
          "output_type": "display_data",
          "data": {
            "text/plain": [
              "<Figure size 640x480 with 1 Axes>"
            ],
            "image/png": "[encoded data removed]"
          },
          "metadata": {}
        }
      ]
    },
    {
      "cell_type": "code",
      "source": [
        "#EUF Total\n",
        "data_euf = []\n",
        "for i in range (len(daya_kogenerasi)):\n",
        "  EUF = daya_kogenerasi[i]+daya_listrik[i]\n",
        "  EUF = (EUF/40)*100\n",
        "  data_euf.append(EUF)\n",
        "  #data_euf = [*set(data_euf)]\n",
        "\n",
        "data_euf.sort(reverse=False)\n",
        "print(data_euf)\n",
        "print(len(data_euf))"
      ],
      "metadata": {
        "id": "pK_tO8fVXvCk",
        "colab": {
          "base_uri": "https://localhost:8080/"
        },
        "outputId": "bd23fb31-a4cf-44a4-92c5-3854e71a8939"
      },
      "execution_count": null,
      "outputs": [
        {
          "output_type": "stream",
          "name": "stdout",
          "text": [
            "[16.5645, 27.004250000000003, 27.027250000000002, 27.315250000000002, 28.007749999999998, 29.459000000000003, 32.78275, 35.391, 37.501999999999995, 39.08425]\n",
            "10\n"
          ]
        }
      ]
    },
    {
      "cell_type": "markdown",
      "source": [
        "## **Grafik EUF**"
      ],
      "metadata": {
        "id": "V4e2wSvHKNyw"
      }
    },
    {
      "cell_type": "code",
      "source": [
        "# Using Numpy to create an array X\n",
        "X = np.array(data_massfd)\n",
        "  \n",
        "# Siklus Primer\n",
        "y1 = np.array(data_euf)\n",
        "  \n",
        "# Plotting both the curves simultaneously\n",
        "fig, ax = plt.subplots()\n",
        "ax.plot(X, y1, 'r', label='Desain I')\n",
        "\n",
        "# Naming the x-axis, y-axis and the whole graph\n",
        "plt.xlabel(\"Laju alir massa Pendingin di reaktor (kg/s)\")\n",
        "plt.ylabel(\"Nilai EUF total (%)\")\n",
        "plt.title(\"Desain pertama siklus tak langsung\")\n",
        "  \n",
        "# Adding legend, which helps us recognize the curve according to it's color\n",
        "plt.legend()\n",
        "  \n",
        "# To load the display window\n",
        "plt.show()"
      ],
      "metadata": {
        "colab": {
          "base_uri": "https://localhost:8080/",
          "height": 472
        },
        "id": "MEmmoUENKPcI",
        "outputId": "b7e88a7f-e2d3-4017-b8eb-abe815aabd1a"
      },
      "execution_count": null,
      "outputs": [
        {
          "output_type": "display_data",
          "data": {
            "text/plain": [
              "<Figure size 640x480 with 1 Axes>"
            ],
            "image/png": "[encoded data removed]"
          },
          "metadata": {}
        }
      ]
    },
    {
      "cell_type": "markdown",
      "source": [
        "## **Efisiensi**"
      ],
      "metadata": {
        "id": "lMZTUv77b-hY"
      }
    },
    {
      "cell_type": "code",
      "source": [
        "#daya turbin\n",
        "daya_turbin = np.add(daya_turbina, daya_turbinb)\n",
        "\n",
        "#daya blower\n",
        "#daya_blower = [44,55,66,77,88]\n",
        "\n",
        "#daya seperator, daya heat exchanger setelah turbin B\n",
        "#daya_separator = [10, 20, 30, 40, 50]\n",
        "#daya_heatexchanger = [50, 10, 20, 10, 40]\n",
        "#daya_steamgenerator = [ 40, 55, 77, 88, 99]\n",
        "daya_sistem = np.add(daya_separator, daya_steamgenerator)\n",
        "\n",
        "#daya sirkulator pada siklus sekunder, pompa\n",
        "#daya_pompaa = [50, 60, 70, 80, 90] #pompa masuk steam generator\n",
        "#daya_pompab = [30, 40, 50, 60, 70] #pompa masuk HE\n",
        "daya_sirkulators = np.add(daya_pompaa, daya_pompab)\n",
        "\n",
        "#daya reaktor, daya_reaktor\n",
        "\n",
        "#daya kogenerasi, daya_kogenerasi\n",
        "\n",
        "data_efisiensi = []\n",
        "\n",
        "for i in range (len(daya_turbin)):\n",
        "  #efisiensi1 = (daya_heatexchanger[i]+daya_blower[i]+daya_sistem[i]+daya_sirkulators[i]-daya_turbin[i])\n",
        "  #print(efisiensi1)\n",
        "  efisiensi = ((daya_listrik[i]+daya_steamgenerator[i]-daya_heatexchanger[i])/(40-daya_kogenerasi[i]))*100\n",
        "  #efisiensi = (daya_listrik[i]/(40-daya_kogenerasi[i]-daya_heatexchanger[i]))*100\n",
        "  data_efisiensi.append(efisiensi)\n",
        "  #print(data_efisiensi)\n",
        "  data_efisiensi = [*set(data_efisiensi)]\n",
        "  \n",
        "data_efisiensi.sort(reverse=False)\n",
        "print(data_efisiensi)\n",
        "print(len(data_efisiensi))"
      ],
      "metadata": {
        "colab": {
          "base_uri": "https://localhost:8080/"
        },
        "id": "MC5WslFgcB7s",
        "outputId": "bce1f6a2-59e0-4292-f688-1a5a81d8de5e"
      },
      "execution_count": null,
      "outputs": [
        {
          "output_type": "stream",
          "name": "stdout",
          "text": [
            "[28.70919738467167, 47.19715245323085, 49.50115667833889, 50.14317504765623, 51.63913442030881, 54.69587167618566, 61.88825250662193, 67.57696279122844, 72.18950614869736, 75.70287249373871]\n",
            "10\n"
          ]
        }
      ]
    },
    {
      "cell_type": "markdown",
      "source": [
        "## **Grafik Efisiensi**"
      ],
      "metadata": {
        "id": "K-lyA2a9pfkX"
      }
    },
    {
      "cell_type": "code",
      "source": [
        "# Using Numpy to create an array X\n",
        "X = np.array(data_massfd)\n",
        "  \n",
        "# Data efisiensi\n",
        "y1 = np.array(data_efisiensi)\n",
        "  \n",
        "# Plotting both the curves simultaneously\n",
        "fig, ax = plt.subplots()\n",
        "ax.plot(X, y1, 'r')\n",
        "\n",
        "# Naming the x-axis, y-axis and the whole graph\n",
        "plt.xlabel(\"Laju Alir Pada Siklus Primer (Helium)\")\n",
        "plt.ylabel(\"Efisiensi\")\n",
        "plt.title(\"Grafik Laju Alir-Efisiensi\")\n",
        "  \n",
        "# Adding legend, which helps us recognize the curve according to it's color\n",
        "plt.legend()\n",
        "  \n",
        "# To load the display window\n",
        "plt.show()"
      ],
      "metadata": {
        "colab": {
          "base_uri": "https://localhost:8080/",
          "height": 510
        },
        "id": "AhVJIrfLphxR",
        "outputId": "a4478ea3-ee05-4ef5-d248-ce1775bef498"
      },
      "execution_count": null,
      "outputs": [
        {
          "output_type": "stream",
          "name": "stderr",
          "text": [
            "WARNING:matplotlib.legend:No artists with labels found to put in legend.  Note that artists whose label start with an underscore are ignored when legend() is called with no argument.\n"
          ]
        },
        {
          "output_type": "display_data",
          "data": {
            "text/plain": [
              "<Figure size 640x480 with 1 Axes>"
            ],
            "image/png": "[encoded data removed]"
          },
          "metadata": {}
        }
      ]
    },
    {
      "cell_type": "markdown",
      "source": [
        "# **Siklus Primer Desain V2**"
      ],
      "metadata": {
        "id": "3TxQff0LXVFB"
      }
    },
    {
      "cell_type": "code",
      "source": [
        "from google.colab import drive\n",
        "drive.mount(\"/content/gdrive\")\n",
        "path = r'/content/gdrive/My Drive/stream data from chemcad design 2' # use your path\n",
        "files = Path(path).glob('*.csv')  # .rglob to get subdirectories\n",
        "count_f = glob.glob(path + \"/*.csv\")\n",
        "print(len(count_f))\n",
        "dfs = list()\n",
        "for f in files:\n",
        "  for i in range (len(count_f)):\n",
        "    data = pd.read_csv(f)\n",
        "    #print(data)\n",
        "    # .stem is method for pathlib objects to get the filename w/o the extension\n",
        "    data['file'] = f.stem\n",
        "    dfs.append(data)\n",
        "df1 = pd.concat(dfs, ignore_index=True)\n",
        "#print(df7)"
      ],
      "metadata": {
        "colab": {
          "base_uri": "https://localhost:8080/"
        },
        "id": "xZiDac7mXYn_",
        "outputId": "4bf6550a-6246-43a3-8154-6dde6be65134"
      },
      "execution_count": null,
      "outputs": [
        {
          "output_type": "stream",
          "name": "stdout",
          "text": [
            "Drive already mounted at /content/gdrive; to attempt to forcibly remount, call drive.mount(\"/content/gdrive\", force_remount=True).\n",
            "10\n"
          ]
        }
      ]
    },
    {
      "cell_type": "code",
      "source": [
        "sheet3 = len(df1.index)/len(count_f)\n",
        "print(sheet3)"
      ],
      "metadata": {
        "colab": {
          "base_uri": "https://localhost:8080/"
        },
        "id": "gk0_C3sKCHbe",
        "outputId": "0369feb6-2888-4335-cd8b-4e89fe7403c6"
      },
      "execution_count": null,
      "outputs": [
        {
          "output_type": "stream",
          "name": "stdout",
          "text": [
            "630.0\n"
          ]
        }
      ]
    },
    {
      "cell_type": "code",
      "source": [
        "#Laju Massa Aliran Primer\n",
        "a = 9\n",
        "data_massfd2 = list()\n",
        "while a < len(df1.index):\n",
        "    mass_flow = df1.loc[a]\n",
        "    #print(mass_flow)\n",
        "    data_massfd2.append(mass_flow[1])\n",
        "    data_massfd2 = [*set(data_massfd2)]\n",
        "    a = sheet3 + a\n",
        "data_massfd2 = [eval(i) for i in data_massfd2]\n",
        "data_massfd2.sort(reverse=False)\n",
        "print(data_massfd2)\n",
        "print(len(data_massfd2))"
      ],
      "metadata": {
        "colab": {
          "base_uri": "https://localhost:8080/"
        },
        "id": "DxMQMCMZXulV",
        "outputId": "923b5039-0d8e-4020-c5f2-9dfa01d8c12c"
      },
      "execution_count": null,
      "outputs": [
        {
          "output_type": "stream",
          "name": "stdout",
          "text": [
            "[5, 6, 7, 8, 9, 10, 11, 12, 13, 14]\n",
            "10\n"
          ]
        }
      ]
    },
    {
      "cell_type": "code",
      "source": [
        "from google.colab import drive\n",
        "drive.mount(\"/content/gdrive\")\n",
        "path = r'/content/gdrive/My Drive/power data from chemcad design 2' # use your path\n",
        "files = Path(path).glob('*.csv')  # .rglob to get subdirectories\n",
        "count_f = glob.glob(path + \"/*.csv\")\n",
        "print(len(count_f))\n",
        "dfs = list()\n",
        "for f in files:\n",
        "  for i in range (len(count_f)):\n",
        "    data = pd.read_csv(f)\n",
        "    #print(data)\n",
        "    # .stem is method for pathlib objects to get the filename w/o the extension\n",
        "    data['file'] = f.stem\n",
        "    dfs.append(data)\n",
        "dfpower2 = pd.concat(dfs, ignore_index=True)\n",
        "#print(df7)"
      ],
      "metadata": {
        "colab": {
          "base_uri": "https://localhost:8080/"
        },
        "id": "1OXnfJr8Xrnd",
        "outputId": "4b3e1442-0b44-4236-aaad-ae3b513b9868"
      },
      "execution_count": null,
      "outputs": [
        {
          "output_type": "stream",
          "name": "stdout",
          "text": [
            "Drive already mounted at /content/gdrive; to attempt to forcibly remount, call drive.mount(\"/content/gdrive\", force_remount=True).\n",
            "10\n"
          ]
        }
      ]
    },
    {
      "cell_type": "code",
      "source": [
        "sheet4 = len(dfpower2.index)/len(count_f)\n",
        "print(sheet4)"
      ],
      "metadata": {
        "colab": {
          "base_uri": "https://localhost:8080/"
        },
        "id": "l11pZH7hCTFD",
        "outputId": "c762683d-8031-479d-c3d9-eabc22618f56"
      },
      "execution_count": null,
      "outputs": [
        {
          "output_type": "stream",
          "name": "stdout",
          "text": [
            "1070.0\n"
          ]
        }
      ]
    },
    {
      "cell_type": "code",
      "source": [
        "#sheet\n",
        "print(dfpower2)\n",
        "#print(dfpower.loc[0])\n",
        "#print(dfpower.loc[963])\n",
        "\n",
        "#Reaktor\n",
        "#print(dfpower2.loc[10])\n",
        "\n",
        "#Pompa\n",
        "#print(dfpower2.loc[33])\n",
        "\n",
        "#Heat Exchanger\n",
        "#print(dfpower2.loc[50])\n",
        "\n",
        "#Separator\n",
        "#print(dfpower2.loc[68])\n",
        "\n",
        "#Turbin\n",
        "#print(dfpower2.loc[83])\n",
        "\n",
        "#Blower\n",
        "#print(dfpower2.loc[99])"
      ],
      "metadata": {
        "id": "_iwRik8LYz1W",
        "colab": {
          "base_uri": "https://localhost:8080/"
        },
        "outputId": "c58253a0-2818-488f-f16f-cfedcc8b9e45"
      },
      "execution_count": null,
      "outputs": [
        {
          "output_type": "stream",
          "name": "stdout",
          "text": [
            "                   CHEMCAD                              6.1.4   Page  \\\n",
            "0                      NaN                                NaN    NaN   \n",
            "1                Job name:  Siklus Tak Langsung Desain TA1 V2  Date:   \n",
            "2                      NaN                                NaN    NaN   \n",
            "3      EQUIPMENT SUMMARIES                                NaN    NaN   \n",
            "4                      NaN                                NaN    NaN   \n",
            "...                    ...                                ...    ...   \n",
            "10695             (MJ/sec)                                NaN    NaN   \n",
            "10696          Ideal Cp/Cv                             1.6661    NaN   \n",
            "10697       Calc Pout  bar                                 30    NaN   \n",
            "10698  Calc. mass flowrate                                 13    NaN   \n",
            "10699             (kg/sec)                                NaN    NaN   \n",
            "\n",
            "              1 Unnamed: 4 Unnamed: 5                                  file  \n",
            "0           NaN        NaN        NaN   Siklus Tak Langsung Desain TA1 V2_6  \n",
            "1      4/1/2023      Time:   16:27:15   Siklus Tak Langsung Desain TA1 V2_6  \n",
            "2           NaN        NaN        NaN   Siklus Tak Langsung Desain TA1 V2_6  \n",
            "3           NaN        NaN        NaN   Siklus Tak Langsung Desain TA1 V2_6  \n",
            "4           NaN        NaN        NaN   Siklus Tak Langsung Desain TA1 V2_6  \n",
            "...         ...        ...        ...                                   ...  \n",
            "10695       NaN        NaN        NaN  Siklus Tak Langsung Desain TA1 V2_13  \n",
            "10696       NaN        NaN        NaN  Siklus Tak Langsung Desain TA1 V2_13  \n",
            "10697       NaN        NaN        NaN  Siklus Tak Langsung Desain TA1 V2_13  \n",
            "10698       NaN        NaN        NaN  Siklus Tak Langsung Desain TA1 V2_13  \n",
            "10699       NaN        NaN        NaN  Siklus Tak Langsung Desain TA1 V2_13  \n",
            "\n",
            "[10700 rows x 7 columns]\n"
          ]
        }
      ]
    },
    {
      "cell_type": "code",
      "source": [
        "#DAYA POMPA A (To St. Generator), CALCULATED POWER MJ/S\n",
        "p = 33\n",
        "daya_pompaa2 = list()\n",
        "while p<len(dfpower2.index):\n",
        "  daya = dfpower2.loc[p]\n",
        "  daya_pompaa2.append(daya[1])\n",
        "  #daya_pompaa = [*set(daya_pompaa)]\n",
        "  p = sheet4 + p\n",
        "\n",
        "daya_pompaa2 = [eval(i) for i in daya_pompaa2]\n",
        "#daya_pompaa.sort(reverse=False)\n",
        "print(daya_pompaa2)\n",
        "print(len(daya_pompaa2))"
      ],
      "metadata": {
        "colab": {
          "base_uri": "https://localhost:8080/"
        },
        "id": "EiNxjSdcZqUZ",
        "outputId": "cbbf64a4-dfff-4492-bb3e-0ee47f76ab05"
      },
      "execution_count": null,
      "outputs": [
        {
          "output_type": "stream",
          "name": "stdout",
          "text": [
            "[0.1302, 0.1302, 0.1302, 0.1302, 0.1302, 0.1302, 0.1302, 0.1302, 0.1302, 0.1302]\n",
            "10\n"
          ]
        }
      ]
    },
    {
      "cell_type": "code",
      "source": [
        "#DAYA POMPA B (To Separator), CALCULATED POWER MJ/S\n",
        "p = 33\n",
        "daya_pompab2 = list()\n",
        "while p<len(dfpower2.index):\n",
        "  daya = dfpower2.loc[p]\n",
        "  daya_pompab2.append(daya[2])\n",
        "  #daya_pompab = [*set(daya_pompab)]\n",
        "  p = sheet4 + p\n",
        "\n",
        "daya_pompab2 = [eval(i) for i in daya_pompab2]\n",
        "#daya_pompab.sort(reverse=False)\n",
        "print(daya_pompab2)\n",
        "print(len(daya_pompab2))"
      ],
      "metadata": {
        "colab": {
          "base_uri": "https://localhost:8080/"
        },
        "id": "nA8WOK9daEA0",
        "outputId": "b9c6fe4b-9d3c-4c20-f65a-a0dda79a2d1a"
      },
      "execution_count": null,
      "outputs": [
        {
          "output_type": "stream",
          "name": "stdout",
          "text": [
            "[0.0021, 0.0021, 0.0022, 0.0022, 0.0022, 0.0021, 0.0021, 0.0021, 0.0022, 0.0022]\n",
            "10\n"
          ]
        }
      ]
    },
    {
      "cell_type": "code",
      "source": [
        "#Daya Steam Generator\n",
        "p = 50\n",
        "daya_steamgenerator2 = list()\n",
        "while p<len(dfpower2.index):\n",
        "  daya = dfpower2.loc[p]\n",
        "  daya_steamgenerator2.append(daya[1])\n",
        "  #daya_steamgenerator = [*set(daya_steamgenerator)]\n",
        "  p = sheet4 + p\n",
        "\n",
        "daya_steamgenerator2 = [eval(i) for i in daya_steamgenerator2]\n",
        "#daya_steamgenerator.sort(reverse=False)\n",
        "print(daya_steamgenerator2)\n",
        "print(len(daya_steamgenerator2))"
      ],
      "metadata": {
        "colab": {
          "base_uri": "https://localhost:8080/"
        },
        "id": "FSjHTbcLaMB_",
        "outputId": "51aba8a7-1172-4166-d1e1-cd87b8d14c9a"
      },
      "execution_count": null,
      "outputs": [
        {
          "output_type": "stream",
          "name": "stdout",
          "text": [
            "[19.7093, 26.0943, 32.4346, 37.0098, 39.3884, 16.3471, 22.9777, 29.4258, 35.0278, 38.4133]\n",
            "10\n"
          ]
        }
      ]
    },
    {
      "cell_type": "code",
      "source": [
        "#Daya Heat Exchanger, proses desalinasi\n",
        "p = 50\n",
        "daya_heatexchanger2 = list()\n",
        "while p<len(dfpower2.index):\n",
        "  daya = dfpower2.loc[p]\n",
        "  daya_heatexchanger2.append(daya[2])\n",
        "  #daya_heatexchanger = [*set(daya_heatexchanger)]\n",
        "  p = sheet4 + p\n",
        "\n",
        "daya_heatexchanger2 = [eval(i) for i in daya_heatexchanger2]\n",
        "daya_heatexchanger2.sort(reverse=False)\n",
        "print(daya_heatexchanger2)\n",
        "print(len(daya_heatexchanger2))"
      ],
      "metadata": {
        "colab": {
          "base_uri": "https://localhost:8080/"
        },
        "id": "3W6HAbRBaVeB",
        "outputId": "b9a2999f-d01c-4196-f427-612b1ea59a61"
      },
      "execution_count": null,
      "outputs": [
        {
          "output_type": "stream",
          "name": "stdout",
          "text": [
            "[8.254, 11.2787, 14.1381, 16.7926, 19.2037, 20.7934, 22.0633, 22.8612, 23.3354, 23.6186]\n",
            "10\n"
          ]
        }
      ]
    },
    {
      "cell_type": "code",
      "source": [
        "#Daya Sistem Kogenerasi\n",
        "p = 50\n",
        "daya_kogenerasi2 = list()\n",
        "while p<len(dfpower2.index):\n",
        "  daya = dfpower2.loc[p]\n",
        "  daya_kogenerasi2.append(daya[3])\n",
        "  #daya_kogenerasi = [*set(daya_kogenerasi)]\n",
        "  p = sheet4 + p\n",
        "\n",
        "daya_kogenerasi2 = [eval(i) for i in daya_kogenerasi2]\n",
        "daya_kogenerasi2.sort(reverse=False)\n",
        "print(daya_kogenerasi2)\n",
        "print(len(daya_kogenerasi2))"
      ],
      "metadata": {
        "colab": {
          "base_uri": "https://localhost:8080/"
        },
        "id": "zdkQP3HTaddf",
        "outputId": "c7706b55-00f7-43ab-c896-ba1a09bfde8e"
      },
      "execution_count": null,
      "outputs": [
        {
          "output_type": "stream",
          "name": "stdout",
          "text": [
            "[1.8296, 2.1749, 2.5014, 2.8125, 3.1435, 3.4265, 3.656, 3.8299, 3.9541, 4.041]\n",
            "10\n"
          ]
        }
      ]
    },
    {
      "cell_type": "code",
      "source": [
        "#Daya Separator\n",
        "p = 68\n",
        "daya_separator2 = list()\n",
        "while p<len(dfpower2.index):\n",
        "  daya = dfpower2.loc[p]\n",
        "  daya_separator2.append(daya[1])\n",
        "  #daya_separator = [*set(daya_separator)]\n",
        "  p = sheet4 + p\n",
        "\n",
        "daya_separator2 = [eval(i) for i in daya_separator2]\n",
        "#daya_separator.sort(reverse=False)\n",
        "print(daya_separator2)\n",
        "print(len(daya_separator2))"
      ],
      "metadata": {
        "colab": {
          "base_uri": "https://localhost:8080/"
        },
        "id": "qfzxEOKRaoCr",
        "outputId": "ad3a7f3a-8823-4323-c6ba-b102d3ff8ab1"
      },
      "execution_count": null,
      "outputs": [
        {
          "output_type": "stream",
          "name": "stdout",
          "text": [
            "[2.0674, 1.8339, 1.3033, 0.6268, 0.16, 2.0596, 1.9849, 1.5855, 0.9514, 0.3629]\n",
            "10\n"
          ]
        }
      ]
    },
    {
      "cell_type": "code",
      "source": [
        "#Daya Turbin A\n",
        "p = 83\n",
        "daya_turbina2 = list()\n",
        "while p<len(dfpower2.index):\n",
        "  daya = dfpower2.loc[p]\n",
        "  daya_turbina2.append(daya[1])\n",
        "  #daya_turbina2 = [*set(daya_turbina2)]\n",
        "  p = sheet4 + p\n",
        "\n",
        "daya_turbina2 = [eval(i) for i in daya_turbina2]\n",
        "daya_turbina2 = [ -x for x in daya_turbina2]\n",
        "daya_turbina2.sort(reverse=False)\n",
        "print(daya_turbina2)\n",
        "print(len(daya_turbina2))"
      ],
      "metadata": {
        "colab": {
          "base_uri": "https://localhost:8080/"
        },
        "id": "XifYiVWKaypU",
        "outputId": "59dbad86-3bf5-47f2-982d-fd57c3bbba9b"
      },
      "execution_count": null,
      "outputs": [
        {
          "output_type": "stream",
          "name": "stdout",
          "text": [
            "[5.4988, 5.4988, 5.4988, 5.4988, 5.8398, 6.6936, 7.4356, 8.1212, 8.6624, 9.0573]\n",
            "10\n"
          ]
        }
      ]
    },
    {
      "cell_type": "code",
      "source": [
        "#Daya Turbin B\n",
        "p = 83\n",
        "daya_turbinb2 = list()\n",
        "while p<len(dfpower2.index):\n",
        "  daya = dfpower2.loc[p]\n",
        "  daya_turbinb2.append(daya[2])\n",
        "  #daya_turbinb = [*set(daya_turbinb)]\n",
        "  p = sheet4 + p\n",
        "\n",
        "daya_turbinb2 = [eval(i) for i in daya_turbinb2]\n",
        "daya_turbinb2 = [ -x for x in daya_turbinb2]\n",
        "daya_turbinb2.sort(reverse=False)\n",
        "print(daya_turbinb2)\n",
        "print(len(daya_turbinb2))"
      ],
      "metadata": {
        "colab": {
          "base_uri": "https://localhost:8080/"
        },
        "id": "cSzGEgFQbDWM",
        "outputId": "2cc77a45-790f-49e1-cecf-17c61708777c"
      },
      "execution_count": null,
      "outputs": [
        {
          "output_type": "stream",
          "name": "stdout",
          "text": [
            "[2.9566, 2.9566, 2.9566, 2.9566, 2.9566, 2.9566, 2.9566, 2.9566, 2.9566, 2.9637]\n",
            "10\n"
          ]
        }
      ]
    },
    {
      "cell_type": "code",
      "source": [
        "daya_turbinx2 = np.add(daya_turbina2, daya_turbinb2)\n",
        "daya_listrik2 = []\n",
        "for i in range (len(daya_turbinx2)):\n",
        "  listrik = daya_turbinx2[i]-daya_blower2[i]-daya_separator2[i]-daya_pompaa2[i]-daya_pompab2[i]\n",
        "  daya_listrik2.append(listrik)\n",
        "daya_listrik2.sort(reverse=False)\n",
        "print(daya_listrik2)"
      ],
      "metadata": {
        "colab": {
          "base_uri": "https://localhost:8080/"
        },
        "id": "s_S4SW8v8g-C",
        "outputId": "91516975-1cb0-436f-ccd9-5178e9994482"
      },
      "execution_count": null,
      "outputs": [
        {
          "output_type": "stream",
          "name": "stdout",
          "text": [
            "[6.2388, 6.4664, 6.9909, 7.444099999999999, 7.658600000000001, 8.255299999999998, 8.4542, 9.334399999999999, 10.5025, 11.482399999999998]\n"
          ]
        }
      ]
    },
    {
      "cell_type": "code",
      "source": [
        "#Daya Blower\n",
        "p = 99\n",
        "daya_blower2 = list()\n",
        "while p<len(dfpower2.index):\n",
        "  daya = dfpower2.loc[p]\n",
        "  daya_blower2.append(daya[1])\n",
        "  #daya_blower = [*set(daya_blower)]\n",
        "  p = sheet4 + p\n",
        "\n",
        "daya_blower2 = [eval(i) for i in daya_blower2]\n",
        "#daya_blower2 = [ -x for x in daya_blower2]\n",
        "#daya_blower2.sort(reverse=False)\n",
        "print(daya_blower2)\n",
        "print(len(daya_blower2))"
      ],
      "metadata": {
        "colab": {
          "base_uri": "https://localhost:8080/"
        },
        "id": "r-kIbS9GbOTW",
        "outputId": "ffde9e26-b8ba-4175-e659-dcbee08396c8"
      },
      "execution_count": null,
      "outputs": [
        {
          "output_type": "stream",
          "name": "stdout",
          "text": [
            "[0.0169, 0.0228, 0.0288, 0.0376, 0.0498, 0.0142, 0.0197, 0.0256, 0.0327, 0.0433]\n",
            "10\n"
          ]
        }
      ]
    },
    {
      "cell_type": "code",
      "source": [
        "#jumlah daya turbin\n",
        "\n",
        "#daya kogenerasi\n",
        "#daya_kogenerasii = [*set(daya_kogenerasi)]\n",
        "daya_kogenerasi2.sort(reverse=False)\n",
        "\n",
        "#daya desalinasi\n",
        "#daya_heatexchanger2 = [*set(daya_heatexchanger2)]\n",
        "\n",
        "# Using Numpy to create an array X\n",
        "X = np.array(data_massfd2)\n",
        "\n",
        "# Siklus Primer Desain Pertama\n",
        "y1 = np.array(daya_listrik)\n",
        "y2 = np.array(daya_kogenerasi)\n",
        "y3 = np.array(daya_heatexchanger)\n",
        "  \n",
        "# Siklus Primer Desain Kedua\n",
        "y4 = np.array(daya_listrik2)\n",
        "y5 = np.array(daya_kogenerasi2)\n",
        "y6 = np.array(daya_heatexchanger2)\n",
        "  \n",
        "# Plotting both the curves simultaneously\n",
        "fig, ax = plt.subplots()\n",
        "ax.plot(X, y1, 'r', label='Daya untuk pembangkit listrik desain pertama')\n",
        "ax.plot(X, y2, 'm', label='Daya untuk produksi hidrogen desain pertama')\n",
        "ax.plot(X, y4, 'b', label='Daya untuk pembangkit listrik desain kedua')\n",
        "ax.plot(X, y5, 'c', label='Daya untuk produksi hidrogen desain kedua')\n",
        "#ax.plot(X, y3, 'b', label='Daya untuk desalinasi')\n",
        "\n",
        "# Naming the x-axis, y-axis and the whole graph\n",
        "plt.xlabel(\"Laju alir massa pendingin di reaktor (kg/s)\")\n",
        "plt.ylabel(\"Daya termal (MW)\")\n",
        "plt.title(\"Daya Pembangkit listrik dan produksi hidrogen\")\n",
        "  \n",
        "# Adding legend, which helps us recognize the curve according to it's color\n",
        "plt.legend()\n",
        "  \n",
        "# To load the display window\n",
        "plt.show()"
      ],
      "metadata": {
        "colab": {
          "base_uri": "https://localhost:8080/",
          "height": 472
        },
        "id": "Y1__B3m2bea8",
        "outputId": "592ac168-3c5f-4001-cab8-817b00bcc024"
      },
      "execution_count": null,
      "outputs": [
        {
          "output_type": "display_data",
          "data": {
            "text/plain": [
              "<Figure size 640x480 with 1 Axes>"
            ],
            "image/png": "[encoded data removed]"
          },
          "metadata": {}
        }
      ]
    },
    {
      "cell_type": "code",
      "source": [
        "#EUF Pembangkit Listrik\n",
        "data_eufturbin2 = []\n",
        "for i in range (len(daya_listrik2)):\n",
        "  EUF = (daya_listrik2[i]/40)*100\n",
        "  data_eufturbin2.append(EUF)\n",
        "  #data_euf = [*set(data_euf)]\n",
        "\n",
        "data_eufturbin2.sort(reverse=False)\n",
        "print(data_eufturbin2)\n",
        "print(len(data_eufturbin2))"
      ],
      "metadata": {
        "colab": {
          "base_uri": "https://localhost:8080/"
        },
        "id": "cGbgHQJucCFR",
        "outputId": "ef8c3870-944b-45e9-e256-1eb784bde2a3"
      },
      "execution_count": null,
      "outputs": [
        {
          "output_type": "stream",
          "name": "stdout",
          "text": [
            "[15.597, 16.166, 17.477249999999998, 18.610249999999997, 19.146500000000003, 20.638249999999996, 21.1355, 23.335999999999995, 26.256249999999998, 28.706]\n",
            "10\n"
          ]
        }
      ]
    },
    {
      "cell_type": "code",
      "source": [
        "#EUF Kogenerasi\n",
        "data_eufkogenerasi2 = []\n",
        "for i in range (len(daya_kogenerasi2)):\n",
        "  EUF = (daya_kogenerasi2[i]/40)*100\n",
        "  data_eufkogenerasi2.append(EUF)\n",
        "  #data_euf = [*set(data_euf)]\n",
        "\n",
        "data_eufkogenerasi2.sort(reverse=False)\n",
        "print(data_eufkogenerasi2)\n",
        "print(len(data_eufkogenerasi2))"
      ],
      "metadata": {
        "colab": {
          "base_uri": "https://localhost:8080/"
        },
        "id": "mYHSFcI-cLOm",
        "outputId": "b5fc3192-1c41-4785-c11f-77e747bad2c5"
      },
      "execution_count": null,
      "outputs": [
        {
          "output_type": "stream",
          "name": "stdout",
          "text": [
            "[4.574, 5.437250000000001, 6.253499999999999, 7.03125, 7.858750000000001, 8.56625, 9.14, 9.57475, 9.88525, 10.102500000000001]\n",
            "10\n"
          ]
        }
      ]
    },
    {
      "cell_type": "code",
      "source": [
        "#EUF Desalinasi\n",
        "data_eufdesalinasi2 = []\n",
        "for i in range (len(daya_heatexchanger2)):\n",
        "  EUF = (daya_heatexchanger2[i]/40)*100\n",
        "  data_eufdesalinasi2.append(EUF)\n",
        "  #data_euf = [*set(data_euf)]\n",
        "\n",
        "data_eufdesalinasi2.sort(reverse=False)\n",
        "print(data_eufdesalinasi2)\n",
        "print(len(data_eufdesalinasi2))"
      ],
      "metadata": {
        "colab": {
          "base_uri": "https://localhost:8080/"
        },
        "id": "4_eztr0Iclk6",
        "outputId": "78950d4e-11f8-4d47-96dc-dd6f52b730a1"
      },
      "execution_count": null,
      "outputs": [
        {
          "output_type": "stream",
          "name": "stdout",
          "text": [
            "[20.634999999999998, 28.196750000000005, 35.34525, 41.9815, 48.00925, 51.98349999999999, 55.15825000000001, 57.153, 58.3385, 59.0465]\n",
            "10\n"
          ]
        }
      ]
    },
    {
      "cell_type": "code",
      "source": [
        "# Using Numpy to create an array X\n",
        "X = np.array(data_massfd2)\n",
        "\n",
        "# Siklus Primer Desain Pertama\n",
        "y1 = np.array(data_eufturbin)\n",
        "y2 = np.array(data_eufkogenerasi)\n",
        "#y3 = np.array(data_eufdesalinasi)\n",
        "  \n",
        "# Siklus Primer Desain kedua\n",
        "y3 = np.array(data_eufturbin2)\n",
        "y4 = np.array(data_eufkogenerasi2)\n",
        "#y3 = np.array(data_eufdesalinasi2)\n",
        "  \n",
        "# Plotting both the curves simultaneously\n",
        "fig, ax = plt.subplots()\n",
        "ax.plot(X, y1, 'r', label='EUF untuk pembangkit listrik desain pertama')\n",
        "ax.plot(X, y2, 'm', label='EUF untuk produksi hidrogen desain pertama')\n",
        "ax.plot(X, y3, 'b', label='EUF untuk pembangkit listrik desain kedua')\n",
        "ax.plot(X, y4, 'c', label='EUF untuk produksi hidrogen desain kedua')\n",
        "#ax.plot(X, y3, 'b', label='EUF untuk desalinasi')\n",
        "\n",
        "# Naming the x-axis, y-axis and the whole graph\n",
        "plt.xlabel(\"Laju alir massa pendingin di reaktor (kg/s)\")\n",
        "plt.ylabel(\"Nilai EUF untuk setiap pemanfaatan (%)\")\n",
        "plt.title(\"Energy Utilization Factor (EUF)\")\n",
        "  \n",
        "# Adding legend, which helps us recognize the curve according to it's color\n",
        "plt.legend()\n",
        "  \n",
        "# To load the display window\n",
        "plt.show()"
      ],
      "metadata": {
        "colab": {
          "base_uri": "https://localhost:8080/",
          "height": 472
        },
        "id": "TBFQ-EjBcvEi",
        "outputId": "3c8f8686-a693-4145-f79f-118a42ee7aad"
      },
      "execution_count": null,
      "outputs": [
        {
          "output_type": "display_data",
          "data": {
            "text/plain": [
              "<Figure size 640x480 with 1 Axes>"
            ],
            "image/png": "[encoded data removed]"
          },
          "metadata": {}
        }
      ]
    },
    {
      "cell_type": "code",
      "source": [
        "#EUF Total\n",
        "data_euf2 = []\n",
        "for i in range (len(daya_kogenerasi2)):\n",
        "  EUF = daya_kogenerasi2[i]+daya_listrik2[i]\n",
        "  EUF = (EUF/40)*100\n",
        "  data_euf2.append(EUF)\n",
        "  #data_euf = [*set(data_euf)]\n",
        "\n",
        "data_euf2.sort(reverse=False)\n",
        "print(data_euf2)\n",
        "print(len(data_euf2))"
      ],
      "metadata": {
        "colab": {
          "base_uri": "https://localhost:8080/"
        },
        "id": "CcNKJy3Kc1W0",
        "outputId": "97a62a66-48c8-4b52-c0fc-fd3a83277783"
      },
      "execution_count": null,
      "outputs": [
        {
          "output_type": "stream",
          "name": "stdout",
          "text": [
            "[20.171, 21.603250000000003, 23.73075, 25.641499999999994, 27.005250000000004, 29.2045, 30.2755, 32.91075, 36.1415, 38.808499999999995]\n",
            "10\n"
          ]
        }
      ]
    },
    {
      "cell_type": "code",
      "source": [
        "# Using Numpy to create an array X\n",
        "X = np.array(data_massfd)\n",
        "X2 = np.array(data_massfd2)\n",
        "  \n",
        "# Siklus Primer\n",
        "y1 = np.array(data_euf)\n",
        "y2 = np.array(data_euf2)\n",
        "  \n",
        "# Plotting both the curves simultaneously\n",
        "fig, ax = plt.subplots()\n",
        "plt.title(\"Perbandingan EUF Kedua Desain\")\n",
        "ax.plot(X, y1, 'r', label='Desain pertama')\n",
        "ax.plot(X2, y2, 'b', label='Desain kedua')\n",
        "\n",
        "# Naming the x-axis, y-axis and the whole graph\n",
        "plt.xlabel(\"Laju alir massa pendingin di reaktor (kg/s)\")\n",
        "plt.ylabel(\"Nilai EUF total (%)\")\n",
        "  \n",
        "# Adding legend, which helps us recognize the curve according to it's color\n",
        "plt.legend()\n",
        "  \n",
        "# To load the display window\n",
        "plt.show()"
      ],
      "metadata": {
        "colab": {
          "base_uri": "https://localhost:8080/",
          "height": 472
        },
        "id": "jynuQkVSdid8",
        "outputId": "838416e0-20ea-4069-d064-a193360d6dac"
      },
      "execution_count": null,
      "outputs": [
        {
          "output_type": "display_data",
          "data": {
            "text/plain": [
              "<Figure size 640x480 with 1 Axes>"
            ],
            "image/png": "[encoded data removed]"
          },
          "metadata": {}
        }
      ]
    },
    {
      "cell_type": "code",
      "source": [
        "data_efisiensi2 = []\n",
        "\n",
        "for i in range (len(daya_listrik2)):\n",
        "  #efisiensi1 = (daya_heatexchanger[i]+daya_blower[i]+daya_sistem[i]+daya_sirkulators[i]-daya_turbin[i])\n",
        "  #print(efisiensi1)\n",
        "  efisiensi = (daya_listrik2[i]+daya_steamgenerator2[i]-daya_heatexchanger2[i])/(40-daya_kogenerasi2[i])*100\n",
        "  data_efisiensi2.append(efisiensi)\n",
        "  #print(data_efisiensi)\n",
        "  data_efisiensi2 = [*set(data_efisiensi2)]\n",
        "  \n",
        "data_efisiensi2.sort(reverse=False)\n",
        "print(data_efisiensi2)\n",
        "print(len(data_efisiensi2))\n",
        "print(data_efisiensi)"
      ],
      "metadata": {
        "colab": {
          "base_uri": "https://localhost:8080/"
        },
        "id": "xZ7cb-vN_0lG",
        "outputId": "43bba4fb-8369-47ec-b05b-5836795dbe47"
      },
      "execution_count": null,
      "outputs": [
        {
          "output_type": "stream",
          "name": "stdout",
          "text": [
            "[10.41464448302733, 25.77756988773937, 43.956195863434154, 46.35555299394294, 56.26422666430491, 61.573993158722615, 67.43558426181244, 73.07516894240662, 74.38332773109244, 75.54515485735216]\n",
            "10\n",
            "[28.70919738467167, 47.19715245323085, 49.50115667833889, 50.14317504765623, 51.63913442030881, 54.69587167618566, 61.88825250662193, 67.57696279122844, 72.18950614869736, 75.70287249373871]\n"
          ]
        }
      ]
    },
    {
      "cell_type": "code",
      "source": [
        "# Using Numpy to create an array X\n",
        "X = np.array(data_massfd)\n",
        "  \n",
        "# Data efisiensi\n",
        "y1 = np.array(data_efisiensi)\n",
        "y2 = np.array(data_efisiensi2)\n",
        "  \n",
        "# Plotting both the curves simultaneously\n",
        "fig, ax = plt.subplots()\n",
        "plt.title(\"Efisiensi Kedua Desain\")\n",
        "ax.plot(X, y1, 'r', label = 'Desain pertama')\n",
        "ax.plot(X, y2, 'b', label = 'Desain kedua')\n",
        "\n",
        "# Naming the x-axis, y-axis and the whole graph\n",
        "plt.xlabel(\"Laju alir massa pendingin di reaktor (kg/s)\")\n",
        "plt.ylabel(\"Efisiensi sistem (%)\")\n",
        "  \n",
        "# Adding legend, which helps us recognize the curve according to it's color\n",
        "plt.legend()\n",
        "  \n",
        "# To load the display window\n",
        "plt.show()"
      ],
      "metadata": {
        "colab": {
          "base_uri": "https://localhost:8080/",
          "height": 472
        },
        "id": "oyOGkzyQAAPY",
        "outputId": "33f6acdb-7d97-448c-bea2-24335eefb2f7"
      },
      "execution_count": null,
      "outputs": [
        {
          "output_type": "display_data",
          "data": {
            "text/plain": [
              "<Figure size 640x480 with 1 Axes>"
            ],
            "image/png": "[encoded data removed]"
          },
          "metadata": {}
        }
      ]
    },
    {
      "cell_type": "code",
      "source": [
        "tabel = ['Laju Alir Massa Pendingin di Reaktor', 'Daya Turbin Desain 1', 'Daya Turbin Desain 2', 'Daya Kogenerasi Desain 1', 'Daya Kogenerasi Desain 2']\n",
        "isi = list(zip(data_massfd, daya_listrik, daya_listrik2, daya_kogenerasi, daya_kogenerasi2))\n",
        "dftabel = pd.DataFrame(isi, columns=['Laju Alir Massa Pendingin di Reaktor (Kg/s)', 'Daya Listrik Desain 1 (MW)', 'Daya Listrik Desain 2(MW)', 'Daya Produksi Hidrogen Desain 1(MW)', 'Daya Produksi Hidrogen Desain 2(MW)'])\n",
        "dftabel"
      ],
      "metadata": {
        "colab": {
          "base_uri": "https://localhost:8080/",
          "height": 363
        },
        "id": "Lai4G_dyRrZy",
        "outputId": "1f879f2a-39ce-4e35-ebb7-a89ebffb9dfb"
      },
      "execution_count": null,
      "outputs": [
        {
          "output_type": "execute_result",
          "data": {
            "text/plain": [
              "   Laju Alir Massa Pendingin di Reaktor (Kg/s)  Daya Listrik Desain 1 (MW)  \\\n",
              "0                                            5                      2.9807   \n",
              "1                                            6                      7.1558   \n",
              "2                                            7                      7.1650   \n",
              "3                                            8                      7.2802   \n",
              "4                                            9                      7.5302   \n",
              "5                                           10                      7.9920   \n",
              "6                                           11                      9.1676   \n",
              "7                                           12                     10.0861   \n",
              "8                                           13                     10.7970   \n",
              "9                                           14                     11.3692   \n",
              "\n",
              "   Daya Listrik Desain 2(MW)  Daya Produksi Hidrogen Desain 1(MW)  \\\n",
              "0                     6.2388                               3.6451   \n",
              "1                     6.4664                               3.6459   \n",
              "2                     6.9909                               3.6459   \n",
              "3                     7.4441                               3.6459   \n",
              "4                     7.6586                               3.6729   \n",
              "5                     8.2553                               3.7916   \n",
              "6                     8.4542                               3.9455   \n",
              "7                     9.3344                               4.0703   \n",
              "8                    10.5025                               4.2038   \n",
              "9                    11.4824                               4.2645   \n",
              "\n",
              "   Daya Produksi Hidrogen Desain 2(MW)  \n",
              "0                               1.8296  \n",
              "1                               2.1749  \n",
              "2                               2.5014  \n",
              "3                               2.8125  \n",
              "4                               3.1435  \n",
              "5                               3.4265  \n",
              "6                               3.6560  \n",
              "7                               3.8299  \n",
              "8                               3.9541  \n",
              "9                               4.0410  "
            ],
            "text/html": [
              "\n",
              "  <div id=\"df-453ff41c-9042-472d-a65b-32ea9c19e718\">\n",
              "    <div class=\"colab-df-container\">\n",
              "      <div>\n",
              "<style scoped>\n",
              "    .dataframe tbody tr th:only-of-type {\n",
              "        vertical-align: middle;\n",
              "    }\n",
              "\n",
              "    .dataframe tbody tr th {\n",
              "        vertical-align: top;\n",
              "    }\n",
              "\n",
              "    .dataframe thead th {\n",
              "        text-align: right;\n",
              "    }\n",
              "</style>\n",
              "<table border=\"1\" class=\"dataframe\">\n",
              "  <thead>\n",
              "    <tr style=\"text-align: right;\">\n",
              "      <th></th>\n",
              "      <th>Laju Alir Massa Pendingin di Reaktor (Kg/s)</th>\n",
              "      <th>Daya Listrik Desain 1 (MW)</th>\n",
              "      <th>Daya Listrik Desain 2(MW)</th>\n",
              "      <th>Daya Produksi Hidrogen Desain 1(MW)</th>\n",
              "      <th>Daya Produksi Hidrogen Desain 2(MW)</th>\n",
              "    </tr>\n",
              "  </thead>\n",
              "  <tbody>\n",
              "    <tr>\n",
              "      <th>0</th>\n",
              "      <td>5</td>\n",
              "      <td>2.9807</td>\n",
              "      <td>6.2388</td>\n",
              "      <td>3.6451</td>\n",
              "      <td>1.8296</td>\n",
              "    </tr>\n",
              "    <tr>\n",
              "      <th>1</th>\n",
              "      <td>6</td>\n",
              "      <td>7.1558</td>\n",
              "      <td>6.4664</td>\n",
              "      <td>3.6459</td>\n",
              "      <td>2.1749</td>\n",
              "    </tr>\n",
              "    <tr>\n",
              "      <th>2</th>\n",
              "      <td>7</td>\n",
              "      <td>7.1650</td>\n",
              "      <td>6.9909</td>\n",
              "      <td>3.6459</td>\n",
              "      <td>2.5014</td>\n",
              "    </tr>\n",
              "    <tr>\n",
              "      <th>3</th>\n",
              "      <td>8</td>\n",
              "      <td>7.2802</td>\n",
              "      <td>7.4441</td>\n",
              "      <td>3.6459</td>\n",
              "      <td>2.8125</td>\n",
              "    </tr>\n",
              "    <tr>\n",
              "      <th>4</th>\n",
              "      <td>9</td>\n",
              "      <td>7.5302</td>\n",
              "      <td>7.6586</td>\n",
              "      <td>3.6729</td>\n",
              "      <td>3.1435</td>\n",
              "    </tr>\n",
              "    <tr>\n",
              "      <th>5</th>\n",
              "      <td>10</td>\n",
              "      <td>7.9920</td>\n",
              "      <td>8.2553</td>\n",
              "      <td>3.7916</td>\n",
              "      <td>3.4265</td>\n",
              "    </tr>\n",
              "    <tr>\n",
              "      <th>6</th>\n",
              "      <td>11</td>\n",
              "      <td>9.1676</td>\n",
              "      <td>8.4542</td>\n",
              "      <td>3.9455</td>\n",
              "      <td>3.6560</td>\n",
              "    </tr>\n",
              "    <tr>\n",
              "      <th>7</th>\n",
              "      <td>12</td>\n",
              "      <td>10.0861</td>\n",
              "      <td>9.3344</td>\n",
              "      <td>4.0703</td>\n",
              "      <td>3.8299</td>\n",
              "    </tr>\n",
              "    <tr>\n",
              "      <th>8</th>\n",
              "      <td>13</td>\n",
              "      <td>10.7970</td>\n",
              "      <td>10.5025</td>\n",
              "      <td>4.2038</td>\n",
              "      <td>3.9541</td>\n",
              "    </tr>\n",
              "    <tr>\n",
              "      <th>9</th>\n",
              "      <td>14</td>\n",
              "      <td>11.3692</td>\n",
              "      <td>11.4824</td>\n",
              "      <td>4.2645</td>\n",
              "      <td>4.0410</td>\n",
              "    </tr>\n",
              "  </tbody>\n",
              "</table>\n",
              "</div>\n",
              "      <button class=\"colab-df-convert\" onclick=\"convertToInteractive('df-453ff41c-9042-472d-a65b-32ea9c19e718')\"\n",
              "              title=\"Convert this dataframe to an interactive table.\"\n",
              "              style=\"display:none;\">\n",
              "        \n",
              "  <svg xmlns=\"http://www.w3.org/2000/svg\" height=\"24px\"viewBox=\"0 0 24 24\"\n",
              "       width=\"24px\">\n",
              "    <path d=\"M0 0h24v24H0V0z\" fill=\"none\"/>\n",
              "    <path d=\"M18.56 5.44l.94 2.06.94-2.06 2.06-.94-2.06-.94-.94-2.06-.94 2.06-2.06.94zm-11 1L8.5 8.5l.94-2.06 2.06-.94-2.06-.94L8.5 2.5l-.94 2.06-2.06.94zm10 10l.94 2.06.94-2.06 2.06-.94-2.06-.94-.94-2.06-.94 2.06-2.06.94z\"/><path d=\"M17.41 7.96l-1.37-1.37c-.4-.4-.92-.59-1.43-.59-.52 0-1.04.2-1.43.59L10.3 9.45l-7.72 7.72c-.78.78-.78 2.05 0 2.83L4 21.41c.39.39.9.59 1.41.59.51 0 1.02-.2 1.41-.59l7.78-7.78 2.81-2.81c.8-.78.8-2.07 0-2.86zM5.41 20L4 18.59l7.72-7.72 1.47 1.35L5.41 20z\"/>\n",
              "  </svg>\n",
              "      </button>\n",
              "      \n",
              "  <style>\n",
              "    .colab-df-container {\n",
              "      display:flex;\n",
              "      flex-wrap:wrap;\n",
              "      gap: 12px;\n",
              "    }\n",
              "\n",
              "    .colab-df-convert {\n",
              "      background-color: #E8F0FE;\n",
              "      border: none;\n",
              "      border-radius: 50%;\n",
              "      cursor: pointer;\n",
              "      display: none;\n",
              "      fill: #1967D2;\n",
              "      height: 32px;\n",
              "      padding: 0 0 0 0;\n",
              "      width: 32px;\n",
              "    }\n",
              "\n",
              "    .colab-df-convert:hover {\n",
              "      background-color: #E2EBFA;\n",
              "      box-shadow: 0px 1px 2px rgba(60, 64, 67, 0.3), 0px 1px 3px 1px rgba(60, 64, 67, 0.15);\n",
              "      fill: #174EA6;\n",
              "    }\n",
              "\n",
              "    [theme=dark] .colab-df-convert {\n",
              "      background-color: #3B4455;\n",
              "      fill: #D2E3FC;\n",
              "    }\n",
              "\n",
              "    [theme=dark] .colab-df-convert:hover {\n",
              "      background-color: #434B5C;\n",
              "      box-shadow: 0px 1px 3px 1px rgba(0, 0, 0, 0.15);\n",
              "      filter: drop-shadow(0px 1px 2px rgba(0, 0, 0, 0.3));\n",
              "      fill: #FFFFFF;\n",
              "    }\n",
              "  </style>\n",
              "\n",
              "      <script>\n",
              "        const buttonEl =\n",
              "          document.querySelector('#df-453ff41c-9042-472d-a65b-32ea9c19e718 button.colab-df-convert');\n",
              "        buttonEl.style.display =\n",
              "          google.colab.kernel.accessAllowed ? 'block' : 'none';\n",
              "\n",
              "        async function convertToInteractive(key) {\n",
              "          const element = document.querySelector('#df-453ff41c-9042-472d-a65b-32ea9c19e718');\n",
              "          const dataTable =\n",
              "            await google.colab.kernel.invokeFunction('convertToInteractive',\n",
              "                                                     [key], {});\n",
              "          if (!dataTable) return;\n",
              "\n",
              "          const docLinkHtml = 'Like what you see? Visit the ' +\n",
              "            '<a target=\"_blank\" href=https://colab.research.google.com/notebooks/data_table.ipynb>data table notebook</a>'\n",
              "            + ' to learn more about interactive tables.';\n",
              "          element.innerHTML = '';\n",
              "          dataTable['output_type'] = 'display_data';\n",
              "          await google.colab.output.renderOutput(dataTable, element);\n",
              "          const docLink = document.createElement('div');\n",
              "          docLink.innerHTML = docLinkHtml;\n",
              "          element.appendChild(docLink);\n",
              "        }\n",
              "      </script>\n",
              "    </div>\n",
              "  </div>\n",
              "  "
            ]
          },
          "metadata": {},
          "execution_count": 97
        }
      ]
    },
    {
      "cell_type": "code",
      "source": [
        "from google.colab import files\n",
        "dftabel.to_csv('Data .csv', encoding = 'utf-8-sig') \n",
        "files.download('Data .csv')"
      ],
      "metadata": {
        "colab": {
          "base_uri": "https://localhost:8080/",
          "height": 17
        },
        "id": "SacdyrxgZUNI",
        "outputId": "e4d1e53b-d867-4309-f924-7d5ef57f82bd"
      },
      "execution_count": null,
      "outputs": [
        {
          "output_type": "display_data",
          "data": {
            "text/plain": [
              "<IPython.core.display.Javascript object>"
            ],
            "application/javascript": [
              "\n",
              "    async function download(id, filename, size) {\n",
              "      if (!google.colab.kernel.accessAllowed) {\n",
              "        return;\n",
              "      }\n",
              "      const div = document.createElement('div');\n",
              "      const label = document.createElement('label');\n",
              "      label.textContent = `Downloading \"${filename}\": `;\n",
              "      div.appendChild(label);\n",
              "      const progress = document.createElement('progress');\n",
              "      progress.max = size;\n",
              "      div.appendChild(progress);\n",
              "      document.body.appendChild(div);\n",
              "\n",
              "      const buffers = [];\n",
              "      let downloaded = 0;\n",
              "\n",
              "      const channel = await google.colab.kernel.comms.open(id);\n",
              "      // Send a message to notify the kernel that we're ready.\n",
              "      channel.send({})\n",
              "\n",
              "      for await (const message of channel.messages) {\n",
              "        // Send a message to notify the kernel that we're ready.\n",
              "        channel.send({})\n",
              "        if (message.buffers) {\n",
              "          for (const buffer of message.buffers) {\n",
              "            buffers.push(buffer);\n",
              "            downloaded += buffer.byteLength;\n",
              "            progress.value = downloaded;\n",
              "          }\n",
              "        }\n",
              "      }\n",
              "      const blob = new Blob(buffers, {type: 'application/binary'});\n",
              "      const a = document.createElement('a');\n",
              "      a.href = window.URL.createObjectURL(blob);\n",
              "      a.download = filename;\n",
              "      div.appendChild(a);\n",
              "      a.click();\n",
              "      div.remove();\n",
              "    }\n",
              "  "
            ]
          },
          "metadata": {}
        },
        {
          "output_type": "display_data",
          "data": {
            "text/plain": [
              "<IPython.core.display.Javascript object>"
            ],
            "application/javascript": [
              "download(\"download_e0fc8916-8738-4a75-b562-b44af0aa145b\", \"Data .csv\", 612)"
            ]
          },
          "metadata": {}
        }
      ]
    }
  ]
}